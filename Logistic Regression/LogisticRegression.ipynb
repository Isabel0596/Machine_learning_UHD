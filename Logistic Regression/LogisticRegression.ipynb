{
 "cells": [
  {
   "cell_type": "markdown",
   "metadata": {},
   "source": [
    "# Logistic Regression(LR) in Python \n",
    "#### Isabel De La Cruz"
   ]
  },
  {
   "cell_type": "markdown",
   "metadata": {},
   "source": [
    "## Understanding Logistic Regression"
   ]
  },
  {
   "cell_type": "markdown",
   "metadata": {},
   "source": [
    "The Logistic Regression(LR) algorithm is for supervised learning-classification analysis. LR helps to find the best fit logistic function(sigmoid function) to descibe the relationship between $X$ and $Y$. LR is mainly used when the data in question has a binary output.\n",
    "\n",
    "$Y$ is a binary variable. We label classes as either $1$ or $0$, with $1$ being the desired class prediction. When new observations come in, we can use its input variables and the logistic relationship to predict the probability of the new case belonging to class $y = 1$.\n",
    "\n",
    "The aim for training the logistic regression model is to figure out the best weights for our linear model within the logistic regression. \n",
    "\n",
    "Gradient descent is a method of changing weights based on the loss function for each data point. The loss function tells us how good our model is at making predictions for a given set of parameters. "
   ]
  },
  {
   "cell_type": "markdown",
   "metadata": {},
   "source": [
    "## Applying LR on the Iris Data Set"
   ]
  },
  {
   "cell_type": "code",
   "execution_count": 56,
   "metadata": {},
   "outputs": [],
   "source": [
    "# Importing neccessary packages\n",
    "import pandas as pd\n",
    "import numpy as np\n",
    "import matplotlib.pyplot as plt\n",
    "import math"
   ]
  },
  {
   "cell_type": "code",
   "execution_count": 57,
   "metadata": {},
   "outputs": [
    {
     "data": {
      "text/html": [
       "<div>\n",
       "<style scoped>\n",
       "    .dataframe tbody tr th:only-of-type {\n",
       "        vertical-align: middle;\n",
       "    }\n",
       "\n",
       "    .dataframe tbody tr th {\n",
       "        vertical-align: top;\n",
       "    }\n",
       "\n",
       "    .dataframe thead th {\n",
       "        text-align: right;\n",
       "    }\n",
       "</style>\n",
       "<table border=\"1\" class=\"dataframe\">\n",
       "  <thead>\n",
       "    <tr style=\"text-align: right;\">\n",
       "      <th></th>\n",
       "      <th>sepallength</th>\n",
       "      <th>sepalwidth</th>\n",
       "      <th>petallength</th>\n",
       "      <th>petalwidth</th>\n",
       "      <th>class</th>\n",
       "    </tr>\n",
       "  </thead>\n",
       "  <tbody>\n",
       "    <tr>\n",
       "      <th>0</th>\n",
       "      <td>5.1</td>\n",
       "      <td>3.5</td>\n",
       "      <td>1.4</td>\n",
       "      <td>0.2</td>\n",
       "      <td>Iris-setosa</td>\n",
       "    </tr>\n",
       "    <tr>\n",
       "      <th>1</th>\n",
       "      <td>4.9</td>\n",
       "      <td>3.0</td>\n",
       "      <td>1.4</td>\n",
       "      <td>0.2</td>\n",
       "      <td>Iris-setosa</td>\n",
       "    </tr>\n",
       "    <tr>\n",
       "      <th>2</th>\n",
       "      <td>4.7</td>\n",
       "      <td>3.2</td>\n",
       "      <td>1.3</td>\n",
       "      <td>0.2</td>\n",
       "      <td>Iris-setosa</td>\n",
       "    </tr>\n",
       "    <tr>\n",
       "      <th>3</th>\n",
       "      <td>4.6</td>\n",
       "      <td>3.1</td>\n",
       "      <td>1.5</td>\n",
       "      <td>0.2</td>\n",
       "      <td>Iris-setosa</td>\n",
       "    </tr>\n",
       "    <tr>\n",
       "      <th>4</th>\n",
       "      <td>5.0</td>\n",
       "      <td>3.6</td>\n",
       "      <td>1.4</td>\n",
       "      <td>0.2</td>\n",
       "      <td>Iris-setosa</td>\n",
       "    </tr>\n",
       "  </tbody>\n",
       "</table>\n",
       "</div>"
      ],
      "text/plain": [
       "   sepallength  sepalwidth  petallength  petalwidth        class\n",
       "0          5.1         3.5          1.4         0.2  Iris-setosa\n",
       "1          4.9         3.0          1.4         0.2  Iris-setosa\n",
       "2          4.7         3.2          1.3         0.2  Iris-setosa\n",
       "3          4.6         3.1          1.5         0.2  Iris-setosa\n",
       "4          5.0         3.6          1.4         0.2  Iris-setosa"
      ]
     },
     "execution_count": 57,
     "metadata": {},
     "output_type": "execute_result"
    }
   ],
   "source": [
    "# Displaying the iris data set \n",
    "data = pd.read_csv('iris_data.csv')\n",
    "data.head()"
   ]
  },
  {
   "cell_type": "code",
   "execution_count": 60,
   "metadata": {},
   "outputs": [
    {
     "data": {
      "text/plain": [
       "[<matplotlib.lines.Line2D at 0x1fede0a6bb0>]"
      ]
     },
     "execution_count": 60,
     "metadata": {},
     "output_type": "execute_result"
    },
    {
     "data": {
      "image/png": "[encoded data removed]",
      "text/plain": [
       "<Figure size 504x504 with 1 Axes>"
      ]
     },
     "metadata": {
      "needs_background": "light"
     },
     "output_type": "display_data"
    }
   ],
   "source": [
    "# Reading in the iris data set csv\n",
    "# Reading in the iris data into a dataframe\n",
    "iris = pd.read_csv('iris_data.csv')\n",
    "\n",
    "variable = 'sepallength'\n",
    "setosa = np.array(iris[iris[\"class\"]=='Iris-setosa'][variable])\n",
    "versicolor = np.array(iris[iris[\"class\"]=='Iris-versicolor'][variable])\n",
    "\n",
    "plt.figure(figsize=(7,7))\n",
    "plt.scatter(setosa, np.array([0 for i in range(len(setosa))]), label=\"Setosa\", color = \"pink\")\n",
    "plt.scatter(versicolor, np.array([1 for i in range(len(versicolor))]), label=\"Versicolor\", color = \"yellow\")\n",
    "plt.xlabel(variable)\n",
    "plt.title('Classifying Setosa and Versicolor Iris Flowers using ' + variable)\n",
    "plt.legend()\n",
    "\n",
    "w = np.array([1, -3])\n",
    "x = np.arange(0, 6, .01)\n",
    "y = 1/(1 + np.exp(-(w[0]*x) - w[1]))\n",
    "plt.plot(x, y, color='black')\n",
    "\n"
   ]
  },
  {
   "cell_type": "markdown",
   "metadata": {},
   "source": [
    "## Defining functions:"
   ]
  },
  {
   "cell_type": "markdown",
   "metadata": {},
   "source": [
    "#### Sigmoid:\n",
    "\n",
    "Takes in an input data point and calculates the sigmoid of the data point at that weight and outputs either 0 or 1\n",
    "- INPUTS:\n",
    "     - x_i, a scalar value of a given x\n",
    "     - weight_vec, an array of length 2, the slope and the intercept\n",
    "- OUTPUTS:\n",
    "     - σ(slope*x_i + intercept), a value in the interval [0, 1]\n",
    " "
   ]
  },
  {
   "cell_type": "code",
   "execution_count": 61,
   "metadata": {},
   "outputs": [],
   "source": [
    "def sigmoid(x_i, weight_vec):\n",
    "    \n",
    "    wtx = weight_vec[0]*x_i + weight_vec[1]\n",
    "    probability = 1.0/(1.0 + np.exp(-wtx))\n",
    "    return probability\n"
   ]
  },
  {
   "cell_type": "markdown",
   "metadata": {},
   "source": [
    "#### Loss: \n",
    "\n",
    "Function to take in an input vector, an output array, and\n",
    "    weight vector and returns the sum of squared residuals\n",
    "- INPUTS:\n",
    "     - input_vec, an array of length n that contains all the input data\n",
    "     - output, an array of length n that contains all the outputs\n",
    "     - weight_vec, an array with 2 elements, the slope and the intercept\n",
    "- OUTPUTS:\n",
    "     - total_loss, the sum of squared residuals, a scalar float value"
   ]
  },
  {
   "cell_type": "code",
   "execution_count": 67,
   "metadata": {},
   "outputs": [],
   "source": [
    "def loss_function(input_vec, output, weight_vec):\n",
    "   \n",
    "    n = len(input_vec)\n",
    "    total_loss = 0\n",
    "    \n",
    "    total_loss = 0\n",
    "    for j in range(n):\n",
    "        x_j = input_vec[j]\n",
    "        y_j = output[j]\n",
    "        total_loss += (y_j - sigmoid(x_j, weight_vec))**2\n",
    "    return total_loss / n\n",
    "\n"
   ]
  },
  {
   "cell_type": "markdown",
   "metadata": {},
   "source": [
    "#### Loss-Gradient:\n",
    "\n",
    "Function to take in an input DataFrame, an output array, and weight vector and returns the sum of squared residuals\n",
    "- INPUTS:\n",
    "     - input_vec, an array with the input data of length n\n",
    "     - output, an array of length n that is the outputs\n",
    "     - weight_vec, an array of 2 weights where the first weight is the slope and the second weight is the intercept\n",
    "- OUTPUTS:\n",
    "     - The computed gradient of the Loss function at the given weights"
   ]
  },
  {
   "cell_type": "code",
   "execution_count": 68,
   "metadata": {},
   "outputs": [],
   "source": [
    "def loss_gradient(input_vec, output, weight_vec):\n",
    "\n",
    "    n = len(input_vec)\n",
    "    sum_w1 = 0\n",
    "    sum_w2 = 0\n",
    "    for j in range(n):\n",
    "        x_j = input_vec[j]\n",
    "        y_j = output[j]\n",
    "        σ = sigmoid(x_j, weight_vec)\n",
    "        \n",
    "        sum_w1 += (σ - y_j) * (σ**(-2)) * (np.exp(-(weight_vec[0]*x_j + weight_vec[1]))) * x_j\n",
    "        sum_w2 += (σ - y_j) * (σ**(-2)) * (np.exp(-(weight_vec[0]*x_j + weight_vec[1]))) \n",
    "    sum_w1 *= 2/n\n",
    "    sum_w2 *= (-2)/n\n",
    "    return np.array([sum_w1, sum_w2])\n",
    "\n",
    "\n"
   ]
  },
  {
   "cell_type": "markdown",
   "metadata": {},
   "source": [
    "#### Logistic Regression:\n",
    "\n",
    "This is Least Squares Function that calculates an optimal slope and intercept for the given input_vec (x) and output (y)\n",
    "- INPUTS:\n",
    "     - input_vec, an array of length n that contains all the input data\n",
    "     - output, an array of length n that contains all the outputs\n",
    "     - weight_vec, an array with 2 elements, the slope and the intercept\n",
    "     - loss_fxn, the loss function, a sum of squared residuals\n",
    "     - loss_fxn_prime, the gradient of the loss function\n",
    "     - α, the learning rate\n",
    "- OUTPUTS:\n",
    "     - w_hat, the final and optimal slope and intercept\n",
    "  "
   ]
  },
  {
   "cell_type": "code",
   "execution_count": 69,
   "metadata": {},
   "outputs": [],
   "source": [
    "def Logistic_Regression(input_vec, output, weight_vec, loss_fxn, loss_fxn_prime, α):\n",
    "   \n",
    "    num_iterations = 0\n",
    "    error = float(1.0)\n",
    "    w_k = weight_vec\n",
    "    weights = []\n",
    "    all_losses = []\n",
    "    while (num_iterations <= 10000) & (error > .00001):\n",
    "        w_k1 = w_k - α*loss_fxn_prime(input_vec, output, w_k)\n",
    "        error = abs(loss_fxn(input_vec, output, w_k1) - loss_fxn(input_vec, output, w_k))\n",
    "        weights.append(w_k1)\n",
    "        all_losses.append(loss_function(input_vec, output, w_k1))\n",
    "        num_iterations += 1\n",
    "        w_k = w_k1\n",
    "    return w_k1, weights, all_losses\n"
   ]
  },
  {
   "cell_type": "markdown",
   "metadata": {},
   "source": [
    "### Plotting the Loss Function"
   ]
  },
  {
   "cell_type": "code",
   "execution_count": 72,
   "metadata": {},
   "outputs": [
    {
     "data": {
      "text/plain": [
       "<matplotlib.legend.Legend at 0x1fede11bb80>"
      ]
     },
     "execution_count": 72,
     "metadata": {},
     "output_type": "execute_result"
    },
    {
     "data": {
      "image/png": "[encoded data removed]",
      "text/plain": [
       "<Figure size 432x288 with 1 Axes>"
      ]
     },
     "metadata": {
      "needs_background": "light"
     },
     "output_type": "display_data"
    }
   ],
   "source": [
    "plt.plot(L1,\n",
    "         color = \"pink\",\n",
    "         label = \"Loss of Setosa\")\n",
    "\n",
    "plt.plot(L2,\n",
    "         color = \"yellow\",\n",
    "         label = \"Loss of Versicolor\")\n",
    "\n",
    "\n",
    "\n",
    "plt.title(\"Change in Loss for each iteration\")\n",
    "plt.xlabel('Iterations')\n",
    "plt.ylabel('Loss')\n",
    "plt.legend()"
   ]
  },
  {
   "cell_type": "code",
   "execution_count": null,
   "metadata": {},
   "outputs": [],
   "source": []
  }
 ],
 "metadata": {
  "kernelspec": {
   "display_name": "Python 3",
   "language": "python",
   "name": "python3"
  },
  "language_info": {
   "codemirror_mode": {
    "name": "ipython",
    "version": 3
   },
   "file_extension": ".py",
   "mimetype": "text/x-python",
   "name": "python",
   "nbconvert_exporter": "python",
   "pygments_lexer": "ipython3",
   "version": "3.8.3"
  }
 },
 "nbformat": 4,
 "nbformat_minor": 4
}
